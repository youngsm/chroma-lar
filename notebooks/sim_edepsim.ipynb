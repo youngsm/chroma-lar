{
 "cells": [
  {
   "cell_type": "code",
   "execution_count": 1,
   "id": "08d4953f",
   "metadata": {},
   "outputs": [],
   "source": [
    "import os; os.environ[\"CUDA_VISIBLE_DEVICES\"] = \"1\""
   ]
  },
  {
   "cell_type": "code",
   "execution_count": 2,
   "id": "1559cab5",
   "metadata": {},
   "outputs": [
    {
     "data": {
      "text/plain": [
       "[18528768.0,\n",
       " 156654200.0,\n",
       " 154819740.0,\n",
       " 55836772.0,\n",
       " 185839600.0,\n",
       " 154153660.0,\n",
       " 135658200.0,\n",
       " 97843944.0,\n",
       " 53128124.0,\n",
       " 132014480.0,\n",
       " 178409970.0,\n",
       " 234665250.0,\n",
       " 196912220.0,\n",
       " 165495200.0,\n",
       " 154901840.0,\n",
       " 201038110.0,\n",
       " 216578430.0,\n",
       " 124699110.0,\n",
       " 180451780.0,\n",
       " 60925984.0]"
      ]
     },
     "execution_count": 2,
     "metadata": {},
     "output_type": "execute_result"
    }
   ],
   "source": [
    "import h5py as h5\n",
    "import numpy as np\n",
    "import pycuda.driver as cuda\n",
    "import pycuda.gpuarray as ga\n",
    "\n",
    "from chroma.event import Photons\n",
    "import h5py as h5\n",
    "\n",
    "f = h5.File(\"/sdf/data/neutrino/public_html/dc/mpvmpr_20.h5\", \"r\", libver=\"latest\", swmr=True)\n",
    "\n",
    "INVALID_TRACK_ID = pow(2, 31) - 1\n",
    "light_yield = 20000 # photons/MeV @ 500V/cm\n",
    "\n",
    "def photons(f, wavelength=450):\n",
    "    \"\"\"\n",
    "    note: wavelength doesn't matter as there are no wavelength-dependent effects\n",
    "    during propagation in the liquid argon. however, there *are* in the glass of the PMTs,\n",
    "    so we set the wavelength to a wavelength similar to that after being reemitted by TPB.\n",
    "    \"\"\"\n",
    "    events_s_v = f['pstep/lar_vol']\n",
    "    events_p_v = f['particle/geant4']\n",
    "    for i in range(len(events_s_v)):\n",
    "        event_s = events_s_v[i]\n",
    "        event_p = events_p_v[i]\n",
    "        mask = ~(event_s[\"track_id\"] == INVALID_TRACK_ID)\n",
    "        event_s = event_s[mask]\n",
    "\n",
    "        # for computing beta*gamma\n",
    "        # mass = event_p['mass'][event_s['track_id']]\n",
    "        # mask = mass > 0\n",
    "        # event_s = event_s[mask]\n",
    "        # mass = mass[mask]\n",
    "\n",
    "        de = event_s['de']\n",
    "        t = event_s['t']\n",
    "        x, y, z = event_s['x'], event_s['y'], event_s['z']\n",
    "        pos = np.column_stack([x, y, z])\n",
    "\n",
    "        num_photons = np.ceil(de * light_yield).astype(np.int32)\n",
    "        total_photons = np.sum(num_photons)\n",
    "\n",
    "        # random direction\n",
    "        costheta = np.random.random(total_photons) * 2 - 1\n",
    "        sintheta = np.sqrt(1 - np.square(costheta))\n",
    "        phi = np.random.random(total_photons) * 2 * np.pi\n",
    "        cosphi = np.cos(phi)\n",
    "        sinphi = np.sin(phi)\n",
    "        pdir = np.transpose([sintheta * cosphi, sintheta * sinphi, costheta])\n",
    "\n",
    "        # random polarization\n",
    "        costheta = np.random.random(total_photons) * 2 - 1\n",
    "        sintheta = np.sqrt(1 - np.square(costheta))\n",
    "        phi = np.random.random(total_photons) * 2 * np.pi\n",
    "        cosphi = np.cos(phi)\n",
    "        sinphi = np.sin(phi)\n",
    "        rand_unit = np.transpose([sintheta * cosphi, sintheta * sinphi, costheta])\n",
    "        ppol = np.cross(pdir, rand_unit)\n",
    "        ppol = ppol / np.linalg.norm(ppol, ord=2, axis=1, keepdims=True)\n",
    "\n",
    "        if type(wavelength) is tuple:\n",
    "            pwavelength = (\n",
    "                np.random.random(total_photons) * (wavelength[1] - wavelength[0]) + wavelength[0]\n",
    "            )\n",
    "        else:\n",
    "            pwavelength = np.tile(wavelength, total_photons)\n",
    "\n",
    "        photons = Photons(\n",
    "            pos=np.repeat(pos, num_photons, axis=0),\n",
    "            dir=pdir,\n",
    "            pol=ppol,\n",
    "            t=np.repeat(t, num_photons),\n",
    "            wavelengths=pwavelength,\n",
    "            evidx=np.repeat(i, total_photons),\n",
    "        )\n",
    "        yield photons\n",
    "\n",
    "\n",
    "num_photons = [(f['pstep/lar_vol'][i]['de']*light_yield).sum() for i in range(len(f['pstep/lar_vol']))]\n",
    "num_photons"
   ]
  },
  {
   "cell_type": "code",
   "execution_count": 3,
   "id": "717f5b7d",
   "metadata": {},
   "outputs": [
    {
     "name": "stdout",
     "output_type": "stream",
     "text": [
      "Total PMT number is 162\n",
      "Spacing buffer in y: 320.0, z: 320.0\n",
      "analytic wireplanes attached: 6 (total=6)\n",
      "analytic wireplanes attached: 6\n",
      "event 0/20\n",
      "time: 19.76 s, 938k ph/s, 18,528,768 ph\n"
     ]
    },
    {
     "name": "stderr",
     "output_type": "stream",
     "text": [
      "WARNING: ABORTED PHOTONS\n"
     ]
    },
    {
     "name": "stdout",
     "output_type": "stream",
     "text": [
      "event 1/20\n",
      "time: 151.71 s, 1,187k ph/s, 156,654,208 ph\n"
     ]
    },
    {
     "name": "stderr",
     "output_type": "stream",
     "text": [
      "WARNING: ABORTED PHOTONS\n"
     ]
    },
    {
     "name": "stdout",
     "output_type": "stream",
     "text": [
      "event 2/20\n",
      "time: 287.45 s, 1,141k ph/s, 154,819,744 ph\n"
     ]
    },
    {
     "ename": "KeyboardInterrupt",
     "evalue": "",
     "output_type": "error",
     "traceback": [
      "\u001b[0;31m---------------------------------------------------------------------------\u001b[0m",
      "\u001b[0;31mKeyboardInterrupt\u001b[0m                         Traceback (most recent call last)",
      "Cell \u001b[0;32mIn[3], line 36\u001b[0m\n\u001b[1;32m     34\u001b[0m t_total \u001b[38;5;241m=\u001b[39m \u001b[38;5;241m0\u001b[39m\n\u001b[1;32m     35\u001b[0m t_start \u001b[38;5;241m=\u001b[39m time\u001b[38;5;241m.\u001b[39mtime()\n\u001b[0;32m---> 36\u001b[0m \u001b[38;5;28;43;01mfor\u001b[39;49;00m\u001b[43m \u001b[49m\u001b[43mi\u001b[49m\u001b[43m,\u001b[49m\u001b[43m \u001b[49m\u001b[43mev\u001b[49m\u001b[43m \u001b[49m\u001b[38;5;129;43;01min\u001b[39;49;00m\u001b[43m \u001b[49m\u001b[38;5;28;43menumerate\u001b[39;49m\u001b[43m(\u001b[49m\n\u001b[1;32m     37\u001b[0m \u001b[43m    \u001b[49m\u001b[43msim\u001b[49m\u001b[38;5;241;43m.\u001b[39;49m\u001b[43msimulate\u001b[49m\u001b[43m(\u001b[49m\n\u001b[1;32m     38\u001b[0m \u001b[43m            \u001b[49m\u001b[43mphotons\u001b[49m\u001b[43m(\u001b[49m\u001b[43mf\u001b[49m\u001b[43m)\u001b[49m\u001b[43m,\u001b[49m\n\u001b[1;32m     39\u001b[0m \u001b[43m            \u001b[49m\u001b[43mkeep_photons_end\u001b[49m\u001b[38;5;241;43m=\u001b[39;49m\u001b[38;5;28;43;01mFalse\u001b[39;49;00m\u001b[43m,\u001b[49m\n\u001b[1;32m     40\u001b[0m \u001b[43m            \u001b[49m\u001b[43mkeep_hits\u001b[49m\u001b[38;5;241;43m=\u001b[39;49m\u001b[38;5;28;43;01mFalse\u001b[39;49;00m\u001b[43m,\u001b[49m\n\u001b[1;32m     41\u001b[0m \u001b[43m            \u001b[49m\u001b[43mkeep_flat_hits\u001b[49m\u001b[38;5;241;43m=\u001b[39;49m\u001b[38;5;28;43;01mTrue\u001b[39;49;00m\u001b[43m,\u001b[49m\n\u001b[1;32m     42\u001b[0m \u001b[43m            \u001b[49m\u001b[43mphotons_per_batch\u001b[49m\u001b[38;5;241;43m=\u001b[39;49m\u001b[38;5;241;43m5_000_000\u001b[39;49m\u001b[43m,\u001b[49m\n\u001b[1;32m     43\u001b[0m \u001b[43m            \u001b[49m\u001b[43mmax_steps\u001b[49m\u001b[38;5;241;43m=\u001b[39;49m\u001b[38;5;241;43m1000\u001b[39;49m\u001b[43m,\u001b[49m\n\u001b[1;32m     44\u001b[0m \u001b[43m        \u001b[49m\u001b[43m)\u001b[49m\n\u001b[1;32m     45\u001b[0m \u001b[43m    \u001b[49m\u001b[43m)\u001b[49m\u001b[43m:\u001b[49m\n\u001b[1;32m     46\u001b[0m \u001b[43m    \u001b[49m\u001b[38;5;28;43mprint\u001b[39;49m\u001b[43m(\u001b[49m\u001b[38;5;124;43mf\u001b[39;49m\u001b[38;5;124;43m\"\u001b[39;49m\u001b[38;5;124;43mevent \u001b[39;49m\u001b[38;5;132;43;01m{\u001b[39;49;00m\u001b[43mi\u001b[49m\u001b[38;5;132;43;01m}\u001b[39;49;00m\u001b[38;5;124;43m/\u001b[39;49m\u001b[38;5;132;43;01m{\u001b[39;49;00m\u001b[38;5;28;43mlen\u001b[39;49m\u001b[43m(\u001b[49m\u001b[43mf\u001b[49m\u001b[43m[\u001b[49m\u001b[38;5;124;43m'\u001b[39;49m\u001b[38;5;124;43mpstep/lar_vol\u001b[39;49m\u001b[38;5;124;43m'\u001b[39;49m\u001b[43m]\u001b[49m\u001b[43m)\u001b[49m\u001b[38;5;132;43;01m}\u001b[39;49;00m\u001b[38;5;124;43m\"\u001b[39;49m\u001b[43m)\u001b[49m\n\u001b[1;32m     48\u001b[0m \u001b[43m    \u001b[49m\u001b[43mt\u001b[49m\u001b[43m \u001b[49m\u001b[38;5;241;43m=\u001b[39;49m\u001b[43m \u001b[49m\u001b[43mev\u001b[49m\u001b[38;5;241;43m.\u001b[39;49m\u001b[43mflat_hits\u001b[49m\u001b[38;5;241;43m.\u001b[39;49m\u001b[43mt\u001b[49m\u001b[43m \u001b[49m\u001b[38;5;66;43;03m# ...\u001b[39;49;00m\n",
      "File \u001b[0;32m/sdf/group/neutrino/youngsam/sim/chroma-lite/chroma/sim.py:163\u001b[0m, in \u001b[0;36mSimulation.simulate\u001b[0;34m(self, iterable, keep_photons_beg, keep_photons_end, keep_hits, keep_flat_hits, run_daq, max_steps, photons_per_batch)\u001b[0m\n\u001b[1;32m    161\u001b[0m \u001b[38;5;66;03m#FIXME need an alternate implementation to split an event that is too large\u001b[39;00m\n\u001b[1;32m    162\u001b[0m \u001b[38;5;28;01mif\u001b[39;00m nphotons \u001b[38;5;241m>\u001b[39m\u001b[38;5;241m=\u001b[39m photons_per_batch:\n\u001b[0;32m--> 163\u001b[0m     \u001b[38;5;28;01myield from\u001b[39;00m \u001b[38;5;28mself\u001b[39m\u001b[38;5;241m.\u001b[39m_simulate_batch(batch_events,\n\u001b[1;32m    164\u001b[0m                                     keep_photons_beg\u001b[38;5;241m=\u001b[39mkeep_photons_beg,\n\u001b[1;32m    165\u001b[0m                                     keep_photons_end\u001b[38;5;241m=\u001b[39mkeep_photons_end,\n\u001b[1;32m    166\u001b[0m                                     keep_hits\u001b[38;5;241m=\u001b[39mkeep_hits,\n\u001b[1;32m    167\u001b[0m                                     keep_flat_hits\u001b[38;5;241m=\u001b[39mkeep_flat_hits,\n\u001b[1;32m    168\u001b[0m                                     run_daq\u001b[38;5;241m=\u001b[39mrun_daq, max_steps\u001b[38;5;241m=\u001b[39mmax_steps)\n\u001b[1;32m    169\u001b[0m     nphotons \u001b[38;5;241m=\u001b[39m \u001b[38;5;241m0\u001b[39m\n\u001b[1;32m    170\u001b[0m     batch_events \u001b[38;5;241m=\u001b[39m []\n",
      "File \u001b[0;32m/sdf/group/neutrino/youngsam/sim/chroma-lite/chroma/sim.py:72\u001b[0m, in \u001b[0;36mSimulation._simulate_batch\u001b[0;34m(self, batch_events, keep_photons_beg, keep_photons_end, keep_hits, keep_flat_hits, run_daq, max_steps, verbose)\u001b[0m\n\u001b[1;32m     69\u001b[0m     \u001b[38;5;28mprint\u001b[39m(\u001b[38;5;124m'\u001b[39m\u001b[38;5;124mGPU copy took \u001b[39m\u001b[38;5;132;01m%0.2f\u001b[39;00m\u001b[38;5;124m s\u001b[39m\u001b[38;5;124m'\u001b[39m \u001b[38;5;241m%\u001b[39m (t_copy_end\u001b[38;5;241m-\u001b[39mt_copy_start))\n\u001b[1;32m     71\u001b[0m t_prop_start \u001b[38;5;241m=\u001b[39m timer()\n\u001b[0;32m---> 72\u001b[0m tracking \u001b[38;5;241m=\u001b[39m \u001b[43mgpu_photons\u001b[49m\u001b[38;5;241;43m.\u001b[39;49m\u001b[43mpropagate\u001b[49m\u001b[43m(\u001b[49m\u001b[38;5;28;43mself\u001b[39;49m\u001b[38;5;241;43m.\u001b[39;49m\u001b[43mgpu_geometry\u001b[49m\u001b[43m,\u001b[49m\u001b[43m \u001b[49m\u001b[38;5;28;43mself\u001b[39;49m\u001b[38;5;241;43m.\u001b[39;49m\u001b[43mrng_states\u001b[49m\u001b[43m,\u001b[49m\n\u001b[1;32m     73\u001b[0m \u001b[43m                      \u001b[49m\u001b[43mnthreads_per_block\u001b[49m\u001b[38;5;241;43m=\u001b[39;49m\u001b[38;5;28;43mself\u001b[39;49m\u001b[38;5;241;43m.\u001b[39;49m\u001b[43mnthreads_per_block\u001b[49m\u001b[43m,\u001b[49m\n\u001b[1;32m     74\u001b[0m \u001b[43m                      \u001b[49m\u001b[43mmax_blocks\u001b[49m\u001b[38;5;241;43m=\u001b[39;49m\u001b[38;5;28;43mself\u001b[39;49m\u001b[38;5;241;43m.\u001b[39;49m\u001b[43mmax_blocks\u001b[49m\u001b[43m,\u001b[49m\n\u001b[1;32m     75\u001b[0m \u001b[43m                      \u001b[49m\u001b[43mmax_steps\u001b[49m\u001b[38;5;241;43m=\u001b[39;49m\u001b[43mmax_steps\u001b[49m\u001b[43m,\u001b[49m\u001b[43mtrack\u001b[49m\u001b[38;5;241;43m=\u001b[39;49m\u001b[38;5;28;43mself\u001b[39;49m\u001b[38;5;241;43m.\u001b[39;49m\u001b[43mphoton_tracking\u001b[49m\u001b[43m)\u001b[49m\n\u001b[1;32m     77\u001b[0m t_prop_end \u001b[38;5;241m=\u001b[39m timer()\n\u001b[1;32m     78\u001b[0m \u001b[38;5;28;01mif\u001b[39;00m verbose:\n",
      "File \u001b[0;32m/sdf/group/neutrino/youngsam/sim/chroma-lite/chroma/gpu/photon.py:249\u001b[0m, in \u001b[0;36mGPUPhotons.propagate\u001b[0;34m(self, gpu_geometry, rng_states, nthreads_per_block, max_blocks, max_steps, use_weights, scatter_first, track)\u001b[0m\n\u001b[1;32m    246\u001b[0m output_queue_gpu \u001b[38;5;241m=\u001b[39m temp\n\u001b[1;32m    247\u001b[0m \u001b[38;5;66;03m# Assign with a numpy array of length 1 to silence\u001b[39;00m\n\u001b[1;32m    248\u001b[0m \u001b[38;5;66;03m# warning from PyCUDA about setting array with different strides/storage orders.\u001b[39;00m\n\u001b[0;32m--> 249\u001b[0m \u001b[43moutput_queue_gpu\u001b[49m\u001b[43m[\u001b[49m\u001b[43m:\u001b[49m\u001b[38;5;241;43m1\u001b[39;49m\u001b[43m]\u001b[49m\u001b[38;5;241;43m.\u001b[39;49m\u001b[43mset\u001b[49m\u001b[43m(\u001b[49m\u001b[43mnp\u001b[49m\u001b[38;5;241;43m.\u001b[39;49m\u001b[43mones\u001b[49m\u001b[43m(\u001b[49m\u001b[43mshape\u001b[49m\u001b[38;5;241;43m=\u001b[39;49m\u001b[38;5;241;43m1\u001b[39;49m\u001b[43m,\u001b[49m\u001b[43m \u001b[49m\u001b[43mdtype\u001b[49m\u001b[38;5;241;43m=\u001b[39;49m\u001b[43mnp\u001b[49m\u001b[38;5;241;43m.\u001b[39;49m\u001b[43muint32\u001b[49m\u001b[43m)\u001b[49m\u001b[43m)\u001b[49m\n\u001b[1;32m    250\u001b[0m nphotons \u001b[38;5;241m=\u001b[39m input_queue_gpu[:\u001b[38;5;241m1\u001b[39m]\u001b[38;5;241m.\u001b[39mget()[\u001b[38;5;241m0\u001b[39m] \u001b[38;5;241m-\u001b[39m \u001b[38;5;241m1\u001b[39m\n\u001b[1;32m    251\u001b[0m \u001b[38;5;28;01mif\u001b[39;00m nphotons \u001b[38;5;241m==\u001b[39m \u001b[38;5;241m0\u001b[39m:\n",
      "File \u001b[0;32m~/sw/dune/.conda/envs/py310_torch/lib/python3.12/site-packages/pycuda/gpuarray.py:343\u001b[0m, in \u001b[0;36mGPUArray.set\u001b[0;34m(self, ary, async_, stream, **kwargs)\u001b[0m\n\u001b[1;32m    340\u001b[0m     \u001b[38;5;28;01mraise\u001b[39;00m \u001b[38;5;167;01mValueError\u001b[39;00m(\u001b[38;5;124m\"\u001b[39m\u001b[38;5;124mary and self must have the same dtype\u001b[39m\u001b[38;5;124m\"\u001b[39m)\n\u001b[1;32m    342\u001b[0m \u001b[38;5;28;01mif\u001b[39;00m \u001b[38;5;28mself\u001b[39m\u001b[38;5;241m.\u001b[39msize:\n\u001b[0;32m--> 343\u001b[0m     \u001b[43m_memcpy_discontig\u001b[49m\u001b[43m(\u001b[49m\u001b[38;5;28;43mself\u001b[39;49m\u001b[43m,\u001b[49m\u001b[43m \u001b[49m\u001b[43mary\u001b[49m\u001b[43m,\u001b[49m\u001b[43m \u001b[49m\u001b[43masync_\u001b[49m\u001b[38;5;241;43m=\u001b[39;49m\u001b[43masync_\u001b[49m\u001b[43m,\u001b[49m\u001b[43m \u001b[49m\u001b[43mstream\u001b[49m\u001b[38;5;241;43m=\u001b[39;49m\u001b[43mstream\u001b[49m\u001b[43m)\u001b[49m\n",
      "File \u001b[0;32m~/sw/dune/.conda/envs/py310_torch/lib/python3.12/site-packages/pycuda/gpuarray.py:1592\u001b[0m, in \u001b[0;36m_memcpy_discontig\u001b[0;34m(dst, src, async_, stream)\u001b[0m\n\u001b[1;32m   1590\u001b[0m             drv\u001b[38;5;241m.\u001b[39mmemcpy_htod_async(dst\u001b[38;5;241m.\u001b[39mgpudata, src, stream\u001b[38;5;241m=\u001b[39mstream)\n\u001b[1;32m   1591\u001b[0m         \u001b[38;5;28;01melse\u001b[39;00m:\n\u001b[0;32m-> 1592\u001b[0m             \u001b[43mdrv\u001b[49m\u001b[38;5;241;43m.\u001b[39;49m\u001b[43mmemcpy_htod\u001b[49m\u001b[43m(\u001b[49m\u001b[43mdst\u001b[49m\u001b[38;5;241;43m.\u001b[39;49m\u001b[43mgpudata\u001b[49m\u001b[43m,\u001b[49m\u001b[43m \u001b[49m\u001b[43msrc\u001b[49m\u001b[43m)\u001b[49m\n\u001b[1;32m   1593\u001b[0m     \u001b[38;5;28;01mreturn\u001b[39;00m\n\u001b[1;32m   1595\u001b[0m \u001b[38;5;28;01mif\u001b[39;00m \u001b[38;5;28mlen\u001b[39m(shape) \u001b[38;5;241m==\u001b[39m \u001b[38;5;241m2\u001b[39m:\n",
      "\u001b[0;31mKeyboardInterrupt\u001b[0m: "
     ]
    }
   ],
   "source": [
    "from chroma_lar.geometry import build_detector_from_config\n",
    "from chroma.sim import Simulation\n",
    "import time\n",
    "\n",
    "cfg = dict(\n",
    "    include_active=True,\n",
    "    include_cavity=False,\n",
    "    include_pmts=True,\n",
    "    include_cathode=True,\n",
    "    include_wires=True,\n",
    "    analytic_wires=True,\n",
    ")\n",
    "\n",
    "g = build_detector_from_config(\"detector_config_reflect_reflect3wires\", **cfg)\n",
    "\n",
    "sim = Simulation(g, photon_tracking=0)\n",
    "\n",
    "# generate a small test of photons near a wireplane\n",
    "\n",
    "# run a short propagation to get rid of overhead\n",
    "from chroma_lar.generator import photon_gen\n",
    "phot = photon_gen(10)\n",
    "_ = list(\n",
    "    sim.simulate(\n",
    "        phot,\n",
    "        keep_photons_end=False,\n",
    "        keep_hits=False,\n",
    "        keep_flat_hits=False,\n",
    "        photons_per_batch=10,\n",
    "        max_steps=1000,\n",
    "    )\n",
    ")\n",
    "\n",
    "t_total = 0\n",
    "t_start = time.time()\n",
    "for i, ev in enumerate(\n",
    "    sim.simulate(\n",
    "            photons(f),\n",
    "            keep_photons_end=False,\n",
    "            keep_hits=False,\n",
    "            keep_flat_hits=True,\n",
    "            photons_per_batch=5_000_000,\n",
    "            max_steps=1000,\n",
    "        )\n",
    "    ):\n",
    "    print(f\"event {i}/{len(f['pstep/lar_vol'])}\")\n",
    "\n",
    "    t = ev.flat_hits.t # ...\n",
    "\n",
    "    t_end = time.time()\n",
    "    t_total += t_end - t_start\n",
    "    t_diff = t_end - t_start\n",
    "    t_start = t_end\n",
    "    phot_sec = num_photons[i] / t_diff\n",
    "    print(f\"time: {t_total:.2f} s, {phot_sec/1_000:,.0f}k ph/s, {num_photons[i]:,.0f} ph\")\n",
    "print(f\"total time: {t_total} seconds\")\n"
   ]
  }
 ],
 "metadata": {
  "kernelspec": {
   "display_name": "py310_torch",
   "language": "python",
   "name": "python3"
  },
  "language_info": {
   "codemirror_mode": {
    "name": "ipython",
    "version": 3
   },
   "file_extension": ".py",
   "mimetype": "text/x-python",
   "name": "python",
   "nbconvert_exporter": "python",
   "pygments_lexer": "ipython3",
   "version": "3.12.8"
  }
 },
 "nbformat": 4,
 "nbformat_minor": 5
}
